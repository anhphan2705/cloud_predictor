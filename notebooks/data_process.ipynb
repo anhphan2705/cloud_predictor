{
 "cells": [
  {
   "cell_type": "markdown",
   "metadata": {},
   "source": [
    "# Testing Data Processing"
   ]
  },
  {
   "cell_type": "markdown",
   "metadata": {},
   "source": [
    "## Define necessary variables"
   ]
  },
  {
   "cell_type": "code",
   "execution_count": 1,
   "metadata": {},
   "outputs": [],
   "source": [
    "# Create a directory to save the files\n",
    "save_dir = './../data/vietnam_cloud_data'\n",
    "# List of selected years\n",
    "years = ['2001', '2003', '2005', '2007', '2009', '2011', '2013', '2015', '2017', '2019', '2021', '2023']\n",
    "# List of selected months\n",
    "months = ['01', '02', '03', '04', '05', '06', '07', '08', '09', '10', '11', '12']\n",
    "# List of selected days\n",
    "days = ['01', '02', '03', '04', '05', '06', '07', '08', '09', '10', '11', '12', '13', '14', '15', '16', '17', '18', '19', '20', '21', '22', '23', '24', '25', '26', '27', '28', '29', '30', '31']\n",
    "# Time intervals for every 2 hours\n",
    "times = ['00:00', '02:00', '04:00', '06:00', '08:00', '10:00', '12:00', '14:00', '16:00', '18:00', '20:00', '22:00']\n",
    "# North, West, South, East coordinates for Vietnam\n",
    "vietnam_area = [23, 102, 8, 110]"
   ]
  },
  {
   "cell_type": "markdown",
   "metadata": {},
   "source": [
    "## Pull data from cds api"
   ]
  },
  {
   "cell_type": "markdown",
   "metadata": {},
   "source": [
    "Get the api keys and pull data from the [CDS Website](https://cds.climate.copernicus.eu/cdsapp#!/dataset/reanalysis-era5-single-levels?tab=overview)\n",
    "Be mindful of the data limit per request to split up downloads accordingly."
   ]
  },
  {
   "cell_type": "code",
   "execution_count": null,
   "metadata": {},
   "outputs": [],
   "source": [
    "import os\n",
    "import cdsapi\n",
    "\n",
    "# Create the directory if it does not exist\n",
    "os.makedirs(save_dir, exist_ok=True)\n",
    "\n",
    "# Initialize the CDS API client\n",
    "c = cdsapi.Client()\n",
    "\n",
    "# Loop over each year and retrieve data\n",
    "for year in years:\n",
    "    c.retrieve(\n",
    "        'reanalysis-era5-single-levels',\n",
    "        {\n",
    "            'product_type': 'reanalysis',\n",
    "            'format': 'netcdf',\n",
    "            'variable': [\n",
    "                'total_cloud_cover', 'high_cloud_cover', 'medium_cloud_cover', 'low_cloud_cover',\n",
    "                'total_column_cloud_ice_water', 'total_column_cloud_liquid_water'\n",
    "            ],\n",
    "            'year': year,\n",
    "            'month': days,\n",
    "            'day': days,\n",
    "            'time': times,\n",
    "            'area': vietnam_area,\n",
    "        },\n",
    "        os.path.join(save_dir, f'vietnam_cloud_data_{year}.nc')\n",
    "    )"
   ]
  },
  {
   "cell_type": "markdown",
   "metadata": {},
   "source": [
    "## Preprocess downloaded data"
   ]
  },
  {
   "cell_type": "markdown",
   "metadata": {},
   "source": [
    "### Combine data files\n",
    "\n",
    "Combine all the separately downloaded file into one and load into panda dataframe."
   ]
  },
  {
   "cell_type": "code",
   "execution_count": 5,
   "metadata": {},
   "outputs": [
    {
     "name": "stdout",
     "output_type": "stream",
     "text": [
      "Time coordinates for 2001: ['2001-01-01T00:00:00.000000000' '2001-01-01T02:00:00.000000000'\n",
      " '2001-01-01T04:00:00.000000000' ... '2001-12-31T18:00:00.000000000'\n",
      " '2001-12-31T20:00:00.000000000' '2001-12-31T22:00:00.000000000']\n",
      "Time coordinates for 2003: ['2003-01-01T00:00:00.000000000' '2003-01-01T02:00:00.000000000'\n",
      " '2003-01-01T04:00:00.000000000' ... '2003-12-31T18:00:00.000000000'\n",
      " '2003-12-31T20:00:00.000000000' '2003-12-31T22:00:00.000000000']\n",
      "Time coordinates for 2005: ['2005-01-01T00:00:00.000000000' '2005-01-01T02:00:00.000000000'\n",
      " '2005-01-01T04:00:00.000000000' ... '2005-12-31T18:00:00.000000000'\n",
      " '2005-12-31T20:00:00.000000000' '2005-12-31T22:00:00.000000000']\n",
      "Time coordinates for 2007: ['2007-01-01T00:00:00.000000000' '2007-01-01T02:00:00.000000000'\n",
      " '2007-01-01T04:00:00.000000000' ... '2007-12-31T18:00:00.000000000'\n",
      " '2007-12-31T20:00:00.000000000' '2007-12-31T22:00:00.000000000']\n",
      "Data variables:\n",
      "    tcc      (time, latitude, longitude) float64 282MB 1.0 1.0 ... 1.0 1.0\n",
      "    hcc      (time, latitude, longitude) float64 282MB 0.0 0.0 0.0 ... 1.0 1.0\n",
      "    mcc      (time, latitude, longitude) float64 282MB 0.0 0.0 ... 0.5676 0.6909\n",
      "    lcc      (time, latitude, longitude) float64 282MB 1.0 1.0 ... 0.9454 0.9021\n",
      "    tciw     (time, latitude, longitude) float64 282MB 0.0 0.0 ... 0.05515\n",
      "    tclw     (time, latitude, longitude) float64 282MB 0.04238 ... 0.3327\n",
      "        time  latitude  longitude       tcc  hcc       mcc       lcc  tciw  \\\n",
      "0 2001-01-01      23.0     102.00  1.000000  0.0  0.000000  1.000000   0.0   \n",
      "1 2001-01-01      23.0     102.25  1.000000  0.0  0.000000  1.000000   0.0   \n",
      "2 2001-01-01      23.0     102.50  0.829262  0.0  0.006836  0.829262   0.0   \n",
      "3 2001-01-01      23.0     102.75  0.829292  0.0  0.006836  0.829292   0.0   \n",
      "4 2001-01-01      23.0     103.00  1.000000  0.0  0.000305  1.000000   0.0   \n",
      "\n",
      "       tclw  \n",
      "0  0.042379  \n",
      "1  0.080575  \n",
      "2  0.085107  \n",
      "3  0.071462  \n",
      "4  0.086053  \n",
      "time         35267760\n",
      "latitude     35267760\n",
      "longitude    35267760\n",
      "tcc          35267760\n",
      "hcc          35267760\n",
      "mcc          35267760\n",
      "lcc          35267760\n",
      "tciw         35267760\n",
      "tclw         35267760\n",
      "dtype: int64\n"
     ]
    }
   ],
   "source": [
    "import xarray as xr\n",
    "import pandas as pd\n",
    "\n",
    "years = ['2001', '2003', '2005', '2007']\n",
    "\n",
    "# List of yearly files\n",
    "yearly_files = [f'./../data/vietnam_cloud_data/vietnam_cloud_data_{year}.nc' for year in years]\n",
    "\n",
    "# Load datasets and inspect their time coordinates\n",
    "datasets = []\n",
    "for file, year in zip(yearly_files, years):\n",
    "    ds = xr.open_dataset(file)\n",
    "    # Inspect the time coordinates\n",
    "    print(f\"Time coordinates for {year}: {ds['time'].values}\")\n",
    "    datasets.append(ds)\n",
    "\n",
    "# Combine datasets\n",
    "combined_ds = xr.concat(datasets, dim='time')\n",
    "\n",
    "# Save the combined dataset if needed\n",
    "combined_ds.to_netcdf('./../data/vietnam_cloud_data/vietnam_cloud_data_combined.nc')\n",
    "\n",
    "# Print available variables\n",
    "print(combined_ds.data_vars)\n",
    "\n",
    "# List of variables with correct names\n",
    "variables = ['tcc', 'hcc', 'mcc', 'lcc', 'tciw', 'tclw']\n",
    "\n",
    "# Convert to DataFrame\n",
    "df = combined_ds[variables].to_dataframe().reset_index()\n",
    "\n",
    "# Visualize data in the DataFrame\n",
    "print(df.head())\n",
    "\n",
    "# Process the DataFrame to handle missing values, etc.\n",
    "# df = df.dropna()\n",
    "\n",
    "# Convert timestamps to a datetime format\n",
    "df['time'] = pd.to_datetime(df['time'])\n",
    "\n",
    "# Print the count of non-missing values in each column\n",
    "print(df.count())\n",
    "\n",
    "# Save the DataFrame to a CSV file for easier inspection if needed\n",
    "# df.to_csv('data/vietnam_cloud_data_combined.csv', index=False)"
   ]
  },
  {
   "cell_type": "markdown",
   "metadata": {},
   "source": [
    "### Visualize data"
   ]
  },
  {
   "cell_type": "markdown",
   "metadata": {},
   "source": [
    "This is will show which column is missing how many values compare to the rest of the dataset."
   ]
  },
  {
   "cell_type": "code",
   "execution_count": 8,
   "metadata": {},
   "outputs": [
    {
     "data": {
      "image/png": "[encoded data removed]",
      "text/plain": [
       "<Figure size 1200x600 with 1 Axes>"
      ]
     },
     "metadata": {},
     "output_type": "display_data"
    }
   ],
   "source": [
    "import pandas as pd\n",
    "import matplotlib.pyplot as plt\n",
    "\n",
    "def plot_nan_counts(df):\n",
    "    \"\"\"\n",
    "    Plots the number of NaN counts for each column in the dataset using Matplotlib.\n",
    "\n",
    "    Parameters:\n",
    "    df (pd.DataFrame): The dataset as a Pandas DataFrame.\n",
    "    \"\"\"\n",
    "    # Calculate NaN counts\n",
    "    nan_counts = df.isna().sum().sort_values(ascending=False).to_frame()\n",
    "    nan_counts = nan_counts.reset_index()\n",
    "    nan_counts.columns = [\"Field Name\", \"NaN Counts\"]\n",
    "\n",
    "    # Plot NaN counts\n",
    "    plt.figure(figsize=(12, 6))\n",
    "    plt.bar(nan_counts[\"Field Name\"], nan_counts[\"NaN Counts\"], color='skyblue')\n",
    "    plt.xticks(rotation=90)\n",
    "    plt.xlabel(\"Field Name\")\n",
    "    plt.ylabel(\"NaN Counts\")\n",
    "    plt.title(\"NaN Counts by Column\")\n",
    "    plt.grid(axis='y')\n",
    "    plt.show()\n",
    "    \n",
    "plot_nan_counts(df)"
   ]
  },
  {
   "cell_type": "markdown",
   "metadata": {},
   "source": [
    "Visualizing data count by hours"
   ]
  },
  {
   "cell_type": "code",
   "execution_count": 9,
   "metadata": {},
   "outputs": [
    {
     "data": {
      "image/png": "[encoded data removed]",
      "text/plain": [
       "<Figure size 1000x600 with 1 Axes>"
      ]
     },
     "metadata": {},
     "output_type": "display_data"
    }
   ],
   "source": [
    "def plot_data_availability_per_hour(df, time_column='time', title=\"Data Availability per Hour\"):\n",
    "    \"\"\"\n",
    "    Plots the total number of data points available per hour in the dataset.\n",
    "\n",
    "    Parameters:\n",
    "    df (pd.DataFrame): The dataset as a Pandas DataFrame.\n",
    "    time_column (str): The name of the column containing the datetime information.\n",
    "    title (str): The title of the plot.\n",
    "    \"\"\"\n",
    "    # Ensure the time column is in datetime format\n",
    "    df[time_column] = pd.to_datetime(df[time_column])\n",
    "    \n",
    "    # Extract the hour from the datetime column\n",
    "    df['hour'] = df[time_column].dt.hour\n",
    "    \n",
    "    # Group by hour and count the number of records for each hour\n",
    "    hourly_counts = df.groupby('hour').size()\n",
    "    \n",
    "    # Plot the data\n",
    "    plt.figure(figsize=(10, 6))\n",
    "    hourly_counts.plot(kind='bar', color='skyblue')\n",
    "    plt.title(title)\n",
    "    plt.xlabel('Hour of the Day')\n",
    "    plt.ylabel('Number of Data Points')\n",
    "    plt.xticks(rotation=0)\n",
    "    plt.grid(axis='y')\n",
    "    plt.show()\n",
    "    \n",
    "plot_data_availability_per_hour(df)"
   ]
  },
  {
   "cell_type": "code",
   "execution_count": null,
   "metadata": {},
   "outputs": [],
   "source": []
  }
 ],
 "metadata": {
  "kernelspec": {
   "display_name": "weather_env",
   "language": "python",
   "name": "python3"
  },
  "language_info": {
   "codemirror_mode": {
    "name": "ipython",
    "version": 3
   },
   "file_extension": ".py",
   "mimetype": "text/x-python",
   "name": "python",
   "nbconvert_exporter": "python",
   "pygments_lexer": "ipython3",
   "version": "3.11.9"
  }
 },
 "nbformat": 4,
 "nbformat_minor": 2
}
